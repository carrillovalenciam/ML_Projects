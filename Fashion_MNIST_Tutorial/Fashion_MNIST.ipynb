{
 "cells": [
  {
   "cell_type": "code",
   "execution_count": 1,
   "metadata": {},
   "outputs": [
    {
     "name": "stderr",
     "output_type": "stream",
     "text": [
      "Using TensorFlow backend.\n"
     ]
    }
   ],
   "source": [
    "from keras.datasets import fashion_mnist"
   ]
  },
  {
   "cell_type": "code",
   "execution_count": 2,
   "metadata": {},
   "outputs": [],
   "source": [
    "(X_train_original, y_train_original),(X_test_original, y_test_original) = fashion_mnist.load_data()"
   ]
  },
  {
   "cell_type": "code",
   "execution_count": 3,
   "metadata": {},
   "outputs": [],
   "source": [
    "import numpy as np\n",
    "from keras.utils import to_categorical\n",
    "import matplotlib.pyplot as plt\n",
    "%matplotlib inline"
   ]
  },
  {
   "cell_type": "code",
   "execution_count": 4,
   "metadata": {},
   "outputs": [
    {
     "name": "stdout",
     "output_type": "stream",
     "text": [
      "Training data shape :  (60000, 28, 28) (60000,)\n",
      "Training data shape :  (10000, 28, 28) (10000,)\n"
     ]
    }
   ],
   "source": [
    "print('Training data shape : ', X_train_original.shape, y_train_original.shape)\n",
    "print('Training data shape : ', X_test_original.shape, y_test_original.shape)"
   ]
  },
  {
   "cell_type": "code",
   "execution_count": 5,
   "metadata": {},
   "outputs": [
    {
     "name": "stdout",
     "output_type": "stream",
     "text": [
      "Number of outputs:  10\n",
      "Output classes:  [0 1 2 3 4 5 6 7 8 9]\n"
     ]
    }
   ],
   "source": [
    "classes = np.unique(y_train_original)\n",
    "n_classes = len(classes)\n",
    "print('Number of outputs: ', n_classes)\n",
    "print('Output classes: ', classes)"
   ]
  },
  {
   "cell_type": "code",
   "execution_count": 6,
   "metadata": {},
   "outputs": [
    {
     "data": {
      "text/plain": [
       "<Figure size 360x360 with 0 Axes>"
      ]
     },
     "metadata": {},
     "output_type": "display_data"
    },
    {
     "data": {
      "image/png": "[encoded data removed]",
      "text/plain": [
       "<Figure size 432x288 with 2 Axes>"
      ]
     },
     "metadata": {
      "needs_background": "light"
     },
     "output_type": "display_data"
    }
   ],
   "source": [
    "#Let us take a look at the images\n",
    "plt.figure(figsize = [5,5])\n",
    "#Display the first figure\n",
    "\n",
    "figs, axes = plt.subplots(ncols =2, nrows=1)\n",
    "axes[0].imshow(X_train_original[0], cmap='gray')\n",
    "plt.title(\"Class type : {}\".format(y_train_original[0]))\n",
    "axes[1].imshow(X_test_original[0], cmap='gray')\n",
    "plt.title(\"Class type : {}\".format(y_test_original[0]))\n",
    "plt.show()\n"
   ]
  },
  {
   "cell_type": "code",
   "execution_count": 7,
   "metadata": {},
   "outputs": [
    {
     "data": {
      "text/plain": [
       "Text(0.5, 1.0, 'Class: 9')"
      ]
     },
     "execution_count": 7,
     "metadata": {},
     "output_type": "execute_result"
    },
    {
     "data": {
      "image/png": "[encoded data removed]",
      "text/plain": [
       "<Figure size 360x360 with 2 Axes>"
      ]
     },
     "metadata": {
      "needs_background": "light"
     },
     "output_type": "display_data"
    }
   ],
   "source": [
    "plt.figure(figsize=[5,5])\n",
    "\n",
    "# Display the first image in training data\n",
    "plt.subplot(121)\n",
    "plt.imshow(X_train_original[0], cmap='gray')\n",
    "plt.title(\"Class: {}\".format(y_train_original[0]))\n",
    "\n",
    "# Display the first image in testing data\n",
    "plt.subplot(122)\n",
    "plt.imshow(X_test_original[0], cmap='gray')\n",
    "plt.title(\"Class: {}\".format(y_test_original[0]))"
   ]
  },
  {
   "cell_type": "code",
   "execution_count": 8,
   "metadata": {},
   "outputs": [
    {
     "name": "stdout",
     "output_type": "stream",
     "text": [
      "6000\n"
     ]
    }
   ],
   "source": [
    "#How many boots are in the training dataset\n",
    "boots = y_train_original == 9\n",
    "print(boots.sum())\n"
   ]
  },
  {
   "cell_type": "code",
   "execution_count": 10,
   "metadata": {},
   "outputs": [
    {
     "name": "stdout",
     "output_type": "stream",
     "text": [
      "<class 'numpy.ndarray'>\n",
      "(60000, 28, 28)\n"
     ]
    }
   ],
   "source": [
    "print(type(X_test_original))\n",
    "print(X_train_original.shape)"
   ]
  },
  {
   "cell_type": "code",
   "execution_count": 9,
   "metadata": {},
   "outputs": [
    {
     "name": "stdout",
     "output_type": "stream",
     "text": [
      "New X_train shape:  (60000, 28, 28, 1)\n",
      "New X_test shape:  (10000, 28, 28, 1)\n"
     ]
    }
   ],
   "source": [
    "#It is time to reshape images into matrix of 28x28x1\n",
    "X_train_reshape = X_train_original.reshape(-1,28,28,1)\n",
    "X_test_reshape = X_test_original.reshape(-1,28,28,1)\n",
    "print(\"New X_train shape: \", X_train_reshape.shape)\n",
    "print(\"New X_test shape: \" , X_test_reshape.shape)"
   ]
  },
  {
   "cell_type": "code",
   "execution_count": 10,
   "metadata": {},
   "outputs": [],
   "source": [
    "#As NN need to work with float numbers we need to convert the uint type format of the dataset into float32,\n",
    "#as well as to scale pixel ranges from 0-1 for a good learning\n",
    "X_train_scaled = X_train_reshape.astype('float32')\n",
    "X_test_scaled = X_test_reshape.astype('float32')\n",
    "X_train_scaled = X_train_scaled / 255\n",
    "X_test_scaled = X_test_scaled / 255"
   ]
  },
  {
   "cell_type": "code",
   "execution_count": 11,
   "metadata": {},
   "outputs": [
    {
     "name": "stdout",
     "output_type": "stream",
     "text": [
      "1.0\n"
     ]
    }
   ],
   "source": [
    "print(np.max(X_train_scaled[0]))"
   ]
  },
  {
   "cell_type": "code",
   "execution_count": 12,
   "metadata": {},
   "outputs": [
    {
     "name": "stdout",
     "output_type": "stream",
     "text": [
      "[0. 0. 0. 0. 0. 0. 0. 0. 0. 1.]\n"
     ]
    }
   ],
   "source": [
    "#Time to make the one hot encoding for categorical classification\n",
    "y_train_ohe = to_categorical(y_train_original)\n",
    "print(y_train_ohe[0])"
   ]
  },
  {
   "cell_type": "code",
   "execution_count": 13,
   "metadata": {},
   "outputs": [
    {
     "name": "stdout",
     "output_type": "stream",
     "text": [
      "[0. 0. 0. 0. 0. 0. 0. 0. 0. 1.]\n"
     ]
    }
   ],
   "source": [
    "y_test_ohe = to_categorical(y_test_original)\n",
    "print(y_test_ohe[0])"
   ]
  },
  {
   "cell_type": "code",
   "execution_count": 14,
   "metadata": {},
   "outputs": [
    {
     "name": "stdout",
     "output_type": "stream",
     "text": [
      "(10000, 10)\n"
     ]
    }
   ],
   "source": [
    "print(y_test_ohe.shape)"
   ]
  },
  {
   "cell_type": "code",
   "execution_count": 15,
   "metadata": {},
   "outputs": [],
   "source": [
    "#Here comes the interesting part!!!!\n",
    "#But first we should split data into train and validation set in order to make a pretty good learning and avoid overfitting\n",
    "#Let us import the appropiate library to do this\n",
    "from sklearn.model_selection import train_test_split"
   ]
  },
  {
   "cell_type": "code",
   "execution_count": 16,
   "metadata": {},
   "outputs": [],
   "source": [
    "X_train, X_val, y_train, y_val = train_test_split(X_train_scaled, y_train_ohe, test_size =0.2, random_state = 123)"
   ]
  },
  {
   "cell_type": "code",
   "execution_count": 17,
   "metadata": {},
   "outputs": [
    {
     "name": "stdout",
     "output_type": "stream",
     "text": [
      "(48000, 28, 28, 1) (12000, 28, 28, 1) (48000, 10) (12000, 10)\n"
     ]
    }
   ],
   "source": [
    "print(X_train.shape, X_val.shape,y_train.shape, y_val.shape)"
   ]
  },
  {
   "cell_type": "markdown",
   "metadata": {},
   "source": [
    "## Time to define the structure of the CNN\n",
    "\n",
    "This is an 'easy' network, it will consist of three convolutional layers, \n",
    " 1. First layer will be 3x3 filter with 32 convolutional units\n",
    " 2. Second layer will be 3x3 for 64 conv units\n",
    " 3. Third layer a 3x3 with 128 units.\n",
    "\n",
    "As well as three MaxPooling layers of 2x2 after each convolutinal layer\n",
    "\n"
   ]
  },
  {
   "cell_type": "code",
   "execution_count": 18,
   "metadata": {},
   "outputs": [],
   "source": [
    "#Importing the necessary modules\n",
    "import keras\n",
    "from keras.models import Sequential, Input, Model\n",
    "from keras.layers import Dense, Dropout, Flatten\n",
    "from keras.layers import Conv2D, MaxPooling2D, MaxPool2D\n",
    "from keras.layers.normalization import BatchNormalization\n",
    "from keras.layers.advanced_activations import LeakyReLU"
   ]
  },
  {
   "cell_type": "code",
   "execution_count": 19,
   "metadata": {},
   "outputs": [],
   "source": [
    "batch_size = 64\n",
    "epochs = 20\n",
    "num_classes = 10"
   ]
  },
  {
   "cell_type": "code",
   "execution_count": 20,
   "metadata": {},
   "outputs": [],
   "source": [
    "import keras.backend as K\n",
    "\n",
    "K.clear_session()"
   ]
  },
  {
   "cell_type": "markdown",
   "metadata": {},
   "source": [
    "### CNN Architecture"
   ]
  },
  {
   "cell_type": "code",
   "execution_count": 21,
   "metadata": {},
   "outputs": [],
   "source": [
    "model = Sequential()\n",
    "model.add(Conv2D(32,kernel_size=3, activation='relu', input_shape = (28,28,1), padding='same'))\n",
    "model.add(MaxPool2D(2))\n",
    "model.add(Conv2D(64, kernel_size=3, activation='relu', padding = 'same'))\n",
    "model.add(MaxPool2D(2))\n",
    "model.add(Conv2D(128, kernel_size = 3, activation='relu', padding='same'))\n",
    "model.add(MaxPool2D(2))\n",
    "model.add(Flatten())\n",
    "model.add(Dense(128, activation = 'relu'))\n",
    "model.add(Dense(num_classes, activation = 'softmax'))\n"
   ]
  },
  {
   "cell_type": "code",
   "execution_count": 22,
   "metadata": {},
   "outputs": [],
   "source": [
    "model.compile(optimizer='adam', loss='categorical_crossentropy', metrics = ['accuracy'])"
   ]
  },
  {
   "cell_type": "code",
   "execution_count": 23,
   "metadata": {},
   "outputs": [
    {
     "name": "stdout",
     "output_type": "stream",
     "text": [
      "Model: \"sequential_1\"\n",
      "_________________________________________________________________\n",
      "Layer (type)                 Output Shape              Param #   \n",
      "=================================================================\n",
      "conv2d_1 (Conv2D)            (None, 28, 28, 32)        320       \n",
      "_________________________________________________________________\n",
      "max_pooling2d_1 (MaxPooling2 (None, 14, 14, 32)        0         \n",
      "_________________________________________________________________\n",
      "conv2d_2 (Conv2D)            (None, 14, 14, 64)        18496     \n",
      "_________________________________________________________________\n",
      "max_pooling2d_2 (MaxPooling2 (None, 7, 7, 64)          0         \n",
      "_________________________________________________________________\n",
      "conv2d_3 (Conv2D)            (None, 7, 7, 128)         73856     \n",
      "_________________________________________________________________\n",
      "max_pooling2d_3 (MaxPooling2 (None, 3, 3, 128)         0         \n",
      "_________________________________________________________________\n",
      "flatten_1 (Flatten)          (None, 1152)              0         \n",
      "_________________________________________________________________\n",
      "dense_1 (Dense)              (None, 128)               147584    \n",
      "_________________________________________________________________\n",
      "dense_2 (Dense)              (None, 10)                1290      \n",
      "=================================================================\n",
      "Total params: 241,546\n",
      "Trainable params: 241,546\n",
      "Non-trainable params: 0\n",
      "_________________________________________________________________\n"
     ]
    }
   ],
   "source": [
    "model.summary()"
   ]
  },
  {
   "cell_type": "code",
   "execution_count": 24,
   "metadata": {},
   "outputs": [],
   "source": [
    "from keras.callbacks import EarlyStopping\n",
    "\n",
    "# Define a callback to monitor val_acc\n",
    "monitor_val_acc = EarlyStopping(monitor='val_accuracy', \n",
    "                       patience=5)\n",
    "\n",
    "# Train your model using the early stopping callback\n",
    "#model.fit(X_train, y_train, epochs=1000, validation_data= (X_test,y_test),callbacks=[monitor_val_acc])"
   ]
  },
  {
   "cell_type": "code",
   "execution_count": 25,
   "metadata": {},
   "outputs": [
    {
     "name": "stdout",
     "output_type": "stream",
     "text": [
      "Train on 48000 samples, validate on 12000 samples\n",
      "Epoch 1/20\n",
      "48000/48000 [==============================] - 8s 169us/step - loss: 0.5065 - accuracy: 0.8173 - val_loss: 0.3464 - val_accuracy: 0.8736\n",
      "Epoch 2/20\n",
      "48000/48000 [==============================] - 5s 114us/step - loss: 0.3140 - accuracy: 0.8857 - val_loss: 0.2975 - val_accuracy: 0.8939\n",
      "Epoch 3/20\n",
      "48000/48000 [==============================] - 5s 114us/step - loss: 0.2612 - accuracy: 0.9049 - val_loss: 0.2756 - val_accuracy: 0.9013\n",
      "Epoch 4/20\n",
      "48000/48000 [==============================] - 6s 116us/step - loss: 0.2335 - accuracy: 0.9150 - val_loss: 0.2632 - val_accuracy: 0.9051\n",
      "Epoch 5/20\n",
      "48000/48000 [==============================] - 6s 122us/step - loss: 0.2061 - accuracy: 0.9243 - val_loss: 0.2283 - val_accuracy: 0.9159\n",
      "Epoch 6/20\n",
      "48000/48000 [==============================] - 5s 114us/step - loss: 0.1833 - accuracy: 0.9341 - val_loss: 0.2769 - val_accuracy: 0.9043\n",
      "Epoch 7/20\n",
      "48000/48000 [==============================] - 6s 116us/step - loss: 0.1661 - accuracy: 0.9399 - val_loss: 0.2465 - val_accuracy: 0.9128\n",
      "Epoch 8/20\n",
      "48000/48000 [==============================] - 6s 117us/step - loss: 0.1461 - accuracy: 0.9456 - val_loss: 0.2520 - val_accuracy: 0.9157\n",
      "Epoch 9/20\n",
      "48000/48000 [==============================] - 6s 115us/step - loss: 0.1324 - accuracy: 0.9507 - val_loss: 0.2415 - val_accuracy: 0.9208\n",
      "Epoch 10/20\n",
      "48000/48000 [==============================] - 6s 117us/step - loss: 0.1146 - accuracy: 0.9575 - val_loss: 0.2556 - val_accuracy: 0.9167\n",
      "Epoch 11/20\n",
      "48000/48000 [==============================] - 6s 121us/step - loss: 0.0983 - accuracy: 0.9641 - val_loss: 0.2665 - val_accuracy: 0.9180\n",
      "Epoch 12/20\n",
      "48000/48000 [==============================] - 6s 116us/step - loss: 0.0860 - accuracy: 0.9685 - val_loss: 0.2791 - val_accuracy: 0.9208\n",
      "Epoch 13/20\n",
      "48000/48000 [==============================] - 6s 116us/step - loss: 0.0739 - accuracy: 0.9724 - val_loss: 0.3091 - val_accuracy: 0.9172\n",
      "Epoch 14/20\n",
      "48000/48000 [==============================] - 5s 112us/step - loss: 0.0700 - accuracy: 0.9738 - val_loss: 0.3288 - val_accuracy: 0.9104\n"
     ]
    }
   ],
   "source": [
    "train_history = model.fit(X_train,y_train, batch_size= batch_size, \n",
    "                          epochs = 20,validation_data=(X_val,y_val), callbacks=[monitor_val_acc])"
   ]
  },
  {
   "cell_type": "code",
   "execution_count": 26,
   "metadata": {},
   "outputs": [
    {
     "name": "stdout",
     "output_type": "stream",
     "text": [
      "10000/10000 [==============================] - 1s 66us/step\n",
      "0.3429361968480051\n",
      "0.9068999886512756\n"
     ]
    }
   ],
   "source": [
    "test_eval = model.evaluate(X_test_scaled,y_test_ohe, verbose =1)\n",
    "print(test_eval[0])\n",
    "print(test_eval[1])"
   ]
  },
  {
   "cell_type": "code",
   "execution_count": 27,
   "metadata": {},
   "outputs": [
    {
     "data": {
      "image/png": "[encoded data removed]",
      "text/plain": [
       "<Figure size 432x288 with 1 Axes>"
      ]
     },
     "metadata": {
      "needs_background": "light"
     },
     "output_type": "display_data"
    }
   ],
   "source": [
    "epochs_plot = range(len(train_history.history['loss']))\n",
    "plt.figure()\n",
    "plt.plot(epochs_plot, train_history.history['loss'], 'b', label='Training loss' )\n",
    "plt.plot(epochs_plot, train_history.history['val_loss'], 'r', label='Validation loss')\n",
    "plt.legend()\n",
    "plt.show()"
   ]
  },
  {
   "cell_type": "code",
   "execution_count": 28,
   "metadata": {},
   "outputs": [
    {
     "name": "stdout",
     "output_type": "stream",
     "text": [
      "[0.3463525353272756, 0.2974950246810913, 0.27559940445423126, 0.26323749419053394, 0.228315143207709, 0.276888716340065, 0.24645405457417172, 0.2519674802025159, 0.24152891339858373, 0.25561834490299223, 0.2664909458557765, 0.2791452117661635, 0.3091056975126266, 0.3288229314684868]\n"
     ]
    }
   ],
   "source": [
    "print(train_history.history['val_loss'])"
   ]
  },
  {
   "cell_type": "code",
   "execution_count": 29,
   "metadata": {},
   "outputs": [
    {
     "data": {
      "image/png": "[encoded data removed]",
      "text/plain": [
       "<Figure size 432x288 with 1 Axes>"
      ]
     },
     "metadata": {
      "needs_background": "light"
     },
     "output_type": "display_data"
    }
   ],
   "source": [
    "plt.figure()\n",
    "plt.plot(epochs_plot, train_history.history['accuracy'], 'b', label='Training accuracy' )\n",
    "plt.plot(epochs_plot, train_history.history['val_accuracy'], 'r', label='Validation accuracy')\n",
    "plt.legend()\n",
    "plt.show()"
   ]
  },
  {
   "cell_type": "markdown",
   "metadata": {},
   "source": [
    "From the last plot it is clear that the algorithm stopped at the 8th epoch, since accuracy on the validation set decreased for the next epochs. With this the CNN has achieved a 91% of accuracy. This probably can be improved by implementing Dropout layers."
   ]
  },
  {
   "cell_type": "code",
   "execution_count": 30,
   "metadata": {},
   "outputs": [],
   "source": [
    "#Saving the model and the weights\n",
    "model.save_weights('weights_fashion_modelc332_mp2_c364_mp2_c3128_f_d128_d10.h5')\n",
    "model.save('simple_fashion_model_c332_mp2_c364_mp2_c3128_f_d128_d10.h5py')\n"
   ]
  },
  {
   "cell_type": "markdown",
   "metadata": {},
   "source": [
    "## CNN with Dropout layers"
   ]
  },
  {
   "cell_type": "code",
   "execution_count": 31,
   "metadata": {},
   "outputs": [
    {
     "name": "stdout",
     "output_type": "stream",
     "text": [
      "Model: \"sequential_2\"\n",
      "_________________________________________________________________\n",
      "Layer (type)                 Output Shape              Param #   \n",
      "=================================================================\n",
      "conv2d_4 (Conv2D)            (None, 28, 28, 32)        320       \n",
      "_________________________________________________________________\n",
      "max_pooling2d_4 (MaxPooling2 (None, 14, 14, 32)        0         \n",
      "_________________________________________________________________\n",
      "dropout_1 (Dropout)          (None, 14, 14, 32)        0         \n",
      "_________________________________________________________________\n",
      "conv2d_5 (Conv2D)            (None, 14, 14, 64)        18496     \n",
      "_________________________________________________________________\n",
      "max_pooling2d_5 (MaxPooling2 (None, 7, 7, 64)          0         \n",
      "_________________________________________________________________\n",
      "dropout_2 (Dropout)          (None, 7, 7, 64)          0         \n",
      "_________________________________________________________________\n",
      "conv2d_6 (Conv2D)            (None, 7, 7, 128)         73856     \n",
      "_________________________________________________________________\n",
      "max_pooling2d_6 (MaxPooling2 (None, 3, 3, 128)         0         \n",
      "_________________________________________________________________\n",
      "dropout_3 (Dropout)          (None, 3, 3, 128)         0         \n",
      "_________________________________________________________________\n",
      "flatten_2 (Flatten)          (None, 1152)              0         \n",
      "_________________________________________________________________\n",
      "dense_3 (Dense)              (None, 128)               147584    \n",
      "_________________________________________________________________\n",
      "dropout_4 (Dropout)          (None, 128)               0         \n",
      "_________________________________________________________________\n",
      "dense_4 (Dense)              (None, 10)                1290      \n",
      "=================================================================\n",
      "Total params: 241,546\n",
      "Trainable params: 241,546\n",
      "Non-trainable params: 0\n",
      "_________________________________________________________________\n"
     ]
    }
   ],
   "source": [
    "batch_drop = 64\n",
    "epochs_drop = 20\n",
    "\n",
    "model_drop = Sequential()\n",
    "model_drop.add(Conv2D(32,kernel_size=3, activation='relu', input_shape = (28,28,1), padding='same'))\n",
    "model_drop.add(MaxPool2D(2))\n",
    "model_drop.add(Dropout(0.25))\n",
    "model_drop.add(Conv2D(64, kernel_size=3, activation='relu', padding = 'same'))\n",
    "model_drop.add(MaxPool2D(2))\n",
    "model_drop.add(Dropout(0.25))\n",
    "model_drop.add(Conv2D(128, kernel_size = 3, activation='relu', padding='same'))\n",
    "model_drop.add(MaxPool2D(2))\n",
    "model_drop.add(Dropout(0.4))\n",
    "model_drop.add(Flatten())\n",
    "model_drop.add(Dense(128, activation = 'relu'))\n",
    "model_drop.add(Dropout(0.3))\n",
    "model_drop.add(Dense(num_classes, activation = 'softmax'))\n",
    "model_drop.summary()"
   ]
  },
  {
   "cell_type": "code",
   "execution_count": 32,
   "metadata": {},
   "outputs": [],
   "source": [
    "model_drop.compile(optimizer='adam', loss = 'categorical_crossentropy', metrics = ['accuracy'])"
   ]
  },
  {
   "cell_type": "code",
   "execution_count": 33,
   "metadata": {},
   "outputs": [
    {
     "name": "stdout",
     "output_type": "stream",
     "text": [
      "Train on 48000 samples, validate on 12000 samples\n",
      "Epoch 1/20\n",
      "48000/48000 [==============================] - 7s 139us/step - loss: 0.6632 - accuracy: 0.7552 - val_loss: 0.3817 - val_accuracy: 0.8662\n",
      "Epoch 2/20\n",
      "48000/48000 [==============================] - 6s 130us/step - loss: 0.4130 - accuracy: 0.8499 - val_loss: 0.3207 - val_accuracy: 0.8832\n",
      "Epoch 3/20\n",
      "48000/48000 [==============================] - 6s 134us/step - loss: 0.3629 - accuracy: 0.8661 - val_loss: 0.2881 - val_accuracy: 0.8970\n",
      "Epoch 4/20\n",
      "48000/48000 [==============================] - 7s 138us/step - loss: 0.3311 - accuracy: 0.8773 - val_loss: 0.2742 - val_accuracy: 0.8988\n",
      "Epoch 5/20\n",
      "48000/48000 [==============================] - 6s 132us/step - loss: 0.3103 - accuracy: 0.8880 - val_loss: 0.2741 - val_accuracy: 0.9008\n",
      "Epoch 6/20\n",
      "48000/48000 [==============================] - 6s 132us/step - loss: 0.2940 - accuracy: 0.8916 - val_loss: 0.2447 - val_accuracy: 0.9082\n",
      "Epoch 7/20\n",
      "48000/48000 [==============================] - 6s 133us/step - loss: 0.2812 - accuracy: 0.8955 - val_loss: 0.2479 - val_accuracy: 0.9083\n",
      "Epoch 8/20\n",
      "48000/48000 [==============================] - 6s 131us/step - loss: 0.2719 - accuracy: 0.9005 - val_loss: 0.2365 - val_accuracy: 0.9111\n",
      "Epoch 9/20\n",
      "48000/48000 [==============================] - 6s 129us/step - loss: 0.2614 - accuracy: 0.9024 - val_loss: 0.2309 - val_accuracy: 0.9147\n",
      "Epoch 10/20\n",
      "48000/48000 [==============================] - 6s 132us/step - loss: 0.2572 - accuracy: 0.9055 - val_loss: 0.2364 - val_accuracy: 0.9117\n",
      "Epoch 11/20\n",
      "48000/48000 [==============================] - 6s 129us/step - loss: 0.2514 - accuracy: 0.9068 - val_loss: 0.2430 - val_accuracy: 0.9117\n",
      "Epoch 12/20\n",
      "48000/48000 [==============================] - 6s 132us/step - loss: 0.2462 - accuracy: 0.9087 - val_loss: 0.2262 - val_accuracy: 0.9161\n",
      "Epoch 13/20\n",
      "48000/48000 [==============================] - 6s 130us/step - loss: 0.2365 - accuracy: 0.9108 - val_loss: 0.2302 - val_accuracy: 0.9141\n",
      "Epoch 14/20\n",
      "48000/48000 [==============================] - 6s 130us/step - loss: 0.2375 - accuracy: 0.9131 - val_loss: 0.2177 - val_accuracy: 0.9193\n",
      "Epoch 15/20\n",
      "48000/48000 [==============================] - 6s 132us/step - loss: 0.2309 - accuracy: 0.9150 - val_loss: 0.2158 - val_accuracy: 0.9211\n",
      "Epoch 16/20\n",
      "48000/48000 [==============================] - 6s 129us/step - loss: 0.2267 - accuracy: 0.9152 - val_loss: 0.2159 - val_accuracy: 0.9222\n",
      "Epoch 17/20\n",
      "48000/48000 [==============================] - 6s 128us/step - loss: 0.2259 - accuracy: 0.9159 - val_loss: 0.2076 - val_accuracy: 0.9265\n",
      "Epoch 18/20\n",
      "48000/48000 [==============================] - 6s 132us/step - loss: 0.2213 - accuracy: 0.9165 - val_loss: 0.2143 - val_accuracy: 0.9242\n",
      "Epoch 19/20\n",
      "48000/48000 [==============================] - 6s 131us/step - loss: 0.2225 - accuracy: 0.9158 - val_loss: 0.2165 - val_accuracy: 0.9240\n",
      "Epoch 20/20\n",
      "48000/48000 [==============================] - 7s 140us/step - loss: 0.2197 - accuracy: 0.9177 - val_loss: 0.2147 - val_accuracy: 0.9237\n"
     ]
    }
   ],
   "source": [
    "train_drop_history = model_drop.fit(X_train, y_train, batch_size=batch_size, epochs=epochs_drop,validation_data = (X_val, y_val), verbose=1,callbacks=[monitor_val_acc])"
   ]
  },
  {
   "cell_type": "code",
   "execution_count": 34,
   "metadata": {},
   "outputs": [
    {
     "name": "stdout",
     "output_type": "stream",
     "text": [
      "10000/10000 [==============================] - 1s 62us/step\n",
      "0.3429361968480051\n",
      "0.9068999886512756\n"
     ]
    }
   ],
   "source": [
    "test_eval_drop = model_drop.evaluate(X_test_scaled,y_test_ohe, verbose =1)\n",
    "print(test_eval[0])\n",
    "print(test_eval[1])"
   ]
  },
  {
   "cell_type": "code",
   "execution_count": 36,
   "metadata": {},
   "outputs": [
    {
     "data": {
      "image/png": "[encoded data removed]",
      "text/plain": [
       "<Figure size 432x288 with 1 Axes>"
      ]
     },
     "metadata": {
      "needs_background": "light"
     },
     "output_type": "display_data"
    }
   ],
   "source": [
    "epochs_plot_drop = range(len(train_drop_history.history['loss']))\n",
    "plt.figure()\n",
    "plt.plot(epochs_plot_drop, train_drop_history.history['loss'], 'b', label='Training loss' )\n",
    "plt.plot(epochs_plot_drop, train_drop_history.history['val_loss'], 'r', label='Validation loss')\n",
    "plt.legend()\n",
    "plt.show()"
   ]
  },
  {
   "cell_type": "code",
   "execution_count": 37,
   "metadata": {},
   "outputs": [
    {
     "data": {
      "image/png": "[encoded data removed]",
      "text/plain": [
       "<Figure size 432x288 with 1 Axes>"
      ]
     },
     "metadata": {
      "needs_background": "light"
     },
     "output_type": "display_data"
    }
   ],
   "source": [
    "plt.figure()\n",
    "plt.plot(epochs_plot_drop, train_drop_history.history['accuracy'], 'b', label='Training accuracy' )\n",
    "plt.plot(epochs_plot_drop, train_drop_history.history['val_accuracy'], 'r', label='Validation accuracy')\n",
    "plt.legend()\n",
    "plt.show()"
   ]
  },
  {
   "cell_type": "code",
   "execution_count": 38,
   "metadata": {},
   "outputs": [
    {
     "name": "stdout",
     "output_type": "stream",
     "text": [
      "10000/10000 [==============================] - 1s 62us/step\n",
      "0.3429361968480051\n",
      "0.9068999886512756\n"
     ]
    }
   ],
   "source": [
    "predicted_drop = model_drop.evaluate(X_test_scaled, y_test_ohe, verbose=1)\n",
    "print(test_eval[0])\n",
    "print(test_eval[1])"
   ]
  },
  {
   "cell_type": "code",
   "execution_count": 39,
   "metadata": {},
   "outputs": [],
   "source": [
    "#Saving fashion model with dropout layers\n",
    "model_drop.save_weights(\"fashion_model_with_dropoutlayers_weights.h5\")\n",
    "model_drop.save(\"fashion_model_with_dropout.h5py\")"
   ]
  },
  {
   "cell_type": "code",
   "execution_count": null,
   "metadata": {},
   "outputs": [],
   "source": []
  }
 ],
 "metadata": {
  "kernelspec": {
   "display_name": "Python 3",
   "language": "python",
   "name": "python3"
  },
  "language_info": {
   "codemirror_mode": {
    "name": "ipython",
    "version": 3
   },
   "file_extension": ".py",
   "mimetype": "text/x-python",
   "name": "python",
   "nbconvert_exporter": "python",
   "pygments_lexer": "ipython3",
   "version": "3.6.10"
  }
 },
 "nbformat": 4,
 "nbformat_minor": 2
}
